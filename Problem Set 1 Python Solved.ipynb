{
 "cells": [
  {
   "cell_type": "markdown",
   "id": "14bddd6b",
   "metadata": {},
   "source": [
    "## Question 6"
   ]
  },
  {
   "cell_type": "code",
   "execution_count": 5,
   "id": "27e76724",
   "metadata": {},
   "outputs": [
    {
     "name": "stdout",
     "output_type": "stream",
     "text": [
      "Enter a word: HAPPY\n",
      "appyhay\n"
     ]
    }
   ],
   "source": [
    "def pig(word):\n",
    "    word = word.lower()\n",
    "    vowels = {'a', 'e', 'i', 'o', 'u'}\n",
    "    if word[0] in vowels:\n",
    "        return word + 'way'\n",
    "    else:\n",
    "        i = 0\n",
    "        while i < len(word) and word[i] not in vowels:\n",
    "            i += 1\n",
    "        return word[i:] + word[:i] + 'ay'\n",
    "user_input_enter = input(\"Enter a word: \")\n",
    "latin = pig(user_input_enter)\n",
    "print(latin)"
   ]
  },
  {
   "cell_type": "markdown",
   "id": "4af21d6f",
   "metadata": {},
   "source": [
    "## Question 7"
   ]
  },
  {
   "cell_type": "code",
   "execution_count": 13,
   "id": "937f2518",
   "metadata": {},
   "outputs": [
    {
     "name": "stdout",
     "output_type": "stream",
     "text": [
      "There are 15 patients of blood type A.\n",
      "There are 1 patients of blood type B.\n",
      "There are 13 patients of blood type AB.\n",
      "There are 15 patients of blood type O.\n",
      "There are 0 patients of blood type OO.\n"
     ]
    }
   ],
   "source": [
    "def bldcount(filename):\n",
    "    x = open(filename,'r')\n",
    "    words = x.readline()\n",
    "    lst = []\n",
    "    blood_types = ['A','B','AB','O','OO']\n",
    "    lst.append(words.split(\" \"))\n",
    "    for blood_type in blood_types:\n",
    "        print(\"There are {} patients of blood type {}.\".format(lst[0].count(blood_type),blood_type))\n",
    "bldcount('bloodtype1.txt')"
   ]
  },
  {
   "cell_type": "markdown",
   "id": "aa85d482",
   "metadata": {},
   "source": [
    "## Question 8"
   ]
  },
  {
   "cell_type": "code",
   "execution_count": 23,
   "id": "ddbd5a0d",
   "metadata": {
    "scrolled": true
   },
   "outputs": [
    {
     "name": "stdout",
     "output_type": "stream",
     "text": [
      "122.96544\n",
      "1.241401\n"
     ]
    }
   ],
   "source": [
    "def curconv(currency,amount):\n",
    "    currency_a = {}\n",
    "    cur = open('currencies.txt')\n",
    "    line = cur.readlines()\n",
    "    for b in line:\n",
    "        currency_a[b[:3].strip()] = b[4:].split(\"\\t\")\n",
    "    ans = currency_a[currency][0].strip()\n",
    "    print(amount * float(ans))\n",
    "curconv('EUR',100)\n",
    "curconv('JPY', 100)"
   ]
  },
  {
   "cell_type": "markdown",
   "id": "6ac6aacc",
   "metadata": {},
   "source": [
    "## Question 9"
   ]
  },
  {
   "cell_type": "markdown",
   "id": "62b3b207",
   "metadata": {},
   "source": [
    "Trying to add incompatible variables, as in adding 6 + ‘a’"
   ]
  },
  {
   "cell_type": "markdown",
   "id": "7319b139",
   "metadata": {},
   "source": [
    "Unsupported type"
   ]
  },
  {
   "cell_type": "markdown",
   "id": "6c56e721",
   "metadata": {},
   "source": [
    "Referring to the 12th item of a list that has only 10 items"
   ]
  },
  {
   "cell_type": "markdown",
   "id": "c39237e2",
   "metadata": {},
   "source": [
    "Out of index"
   ]
  },
  {
   "cell_type": "markdown",
   "id": "051af06f",
   "metadata": {},
   "source": [
    "Using a value that is out of range for a function’s input, such as calling math.sqrt(-1.0)"
   ]
  },
  {
   "cell_type": "markdown",
   "id": "db59a6c9",
   "metadata": {},
   "source": [
    "domain error"
   ]
  },
  {
   "cell_type": "markdown",
   "id": "5299c9c9",
   "metadata": {},
   "source": [
    "Using an undeclared variable, such as print(x) when x has not been defined"
   ]
  },
  {
   "cell_type": "markdown",
   "id": "74692517",
   "metadata": {},
   "source": [
    "variable not defined"
   ]
  },
  {
   "cell_type": "markdown",
   "id": "6f99c2b1",
   "metadata": {},
   "source": [
    "Trying to open a file that does not exist, such as mistyping the file name or looking in the wrong directory.\t"
   ]
  },
  {
   "cell_type": "markdown",
   "id": "313fa207",
   "metadata": {},
   "source": [
    "No such directory found\n"
   ]
  },
  {
   "cell_type": "markdown",
   "id": "095c7cd7",
   "metadata": {},
   "source": [
    "## Question 10"
   ]
  },
  {
   "cell_type": "code",
   "execution_count": 28,
   "id": "5ef95811",
   "metadata": {},
   "outputs": [
    {
     "name": "stdout",
     "output_type": "stream",
     "text": [
      "[1, 1, 1, 3, 5, 1, 1, 2, 1, 0, 1, 0, 1, 2, 4, 0, 1, 2, 0, 2, 1, 0, 1, 1, 0, 0]\n"
     ]
    }
   ],
   "source": [
    "def frequencies(text):\n",
    "    a = ('a','b','c','d','e','f','g','h','i','j','k','l','m','n','o','p','q','r','s','t','u','v','w','x','y','z')\n",
    "    b = []\n",
    "    a_dict = {}\n",
    "    for word in text:\n",
    "        for char in word:\n",
    "            if char.isalpha():\n",
    "                b.append(char)\n",
    "    for char in a:\n",
    "        if char in b:\n",
    "            a_dict[char] = b.count(char)\n",
    "        else:\n",
    "            a_dict[char] = 0\n",
    "    print(list(a_dict.values()))\n",
    "frequencies('The quick red fox got bored and went home.')"
   ]
  }
 ],
 "metadata": {
  "kernelspec": {
   "display_name": "Python 3 (ipykernel)",
   "language": "python",
   "name": "python3"
  },
  "language_info": {
   "codemirror_mode": {
    "name": "ipython",
    "version": 3
   },
   "file_extension": ".py",
   "mimetype": "text/x-python",
   "name": "python",
   "nbconvert_exporter": "python",
   "pygments_lexer": "ipython3",
   "version": "3.11.4"
  }
 },
 "nbformat": 4,
 "nbformat_minor": 5
}
