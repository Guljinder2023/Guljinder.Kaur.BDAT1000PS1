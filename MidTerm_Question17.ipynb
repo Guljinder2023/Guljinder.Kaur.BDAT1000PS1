{
 "cells": [
  {
   "cell_type": "code",
   "execution_count": 1,
   "id": "960418f8",
   "metadata": {},
   "outputs": [
    {
     "name": "stdout",
     "output_type": "stream",
     "text": [
      "1\n",
      "2\n",
      "3\n",
      "False\n"
     ]
    }
   ],
   "source": [
    "class PriorityQueue:\n",
    "    def __init__(self):\n",
    "        self.items = []\n",
    "\n",
    "    def insert(self, number):\n",
    "        self.items.append(number)\n",
    "\n",
    "    def min(self):\n",
    "        if not self.isEmpty():\n",
    "            return min(self.items)\n",
    "\n",
    "    def removeMin(self):\n",
    "        if not self.isEmpty():\n",
    "            min_value = self.min()\n",
    "            self.items.remove(min_value)\n",
    "            return min_value\n",
    "\n",
    "    def isEmpty(self):\n",
    "        return len(self.items) == 0\n",
    "\n",
    "    def __len__(self):\n",
    "        return len(self.items)\n",
    "\n",
    "pq = PriorityQueue()\n",
    "pq.insert(3)\n",
    "pq.insert(1)\n",
    "pq.insert(5)\n",
    "pq.insert(2)\n",
    "print(pq.min())  \n",
    "pq.removeMin()\n",
    "print(pq.min())  \n",
    "print(len(pq)) \n",
    "print(pq.isEmpty()) "
   ]
  }
 ],
 "metadata": {
  "kernelspec": {
   "display_name": "Python 3 (ipykernel)",
   "language": "python",
   "name": "python3"
  },
  "language_info": {
   "codemirror_mode": {
    "name": "ipython",
    "version": 3
   },
   "file_extension": ".py",
   "mimetype": "text/x-python",
   "name": "python",
   "nbconvert_exporter": "python",
   "pygments_lexer": "ipython3",
   "version": "3.11.4"
  }
 },
 "nbformat": 4,
 "nbformat_minor": 5
}
