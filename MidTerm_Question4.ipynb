{
 "cells": [
  {
   "cell_type": "code",
   "execution_count": 6,
   "id": "c4842d80",
   "metadata": {},
   "outputs": [
    {
     "name": "stdout",
     "output_type": "stream",
     "text": [
      "Name: Afghanistan, Population: 25500100, Area: 652230\n",
      "Name: Algeria, Population: 37100000, Area: 2381741\n"
     ]
    }
   ],
   "source": [
    "import sqlite3\n",
    "conn = sqlite3.connect('Question.db')\n",
    "cursor = conn.cursor()\n",
    "\n",
    "cursor.execute('''\n",
    "    CREATE TABLE Question (\n",
    "        name TEXT,\n",
    "        continent TEXT,\n",
    "        area INT,\n",
    "        population INT,\n",
    "        gdp INT\n",
    "    )\n",
    "''')\n",
    "\n",
    "question_data = [\n",
    "    (\"Afghanistan\", \"Asia\", 652230, 25500100, 20343000),\n",
    "    (\"Albania\", \"Europe\", 28748, 2831741, 12960000),\n",
    "    (\"Algeria\", \"Africa\", 2381741, 37100000, 188681000),\n",
    "    (\"Andorra\", \"Europe\", 468, 78115, 3712000),\n",
    "    (\"Angola\", \"Africa\", 1246700, 20609294, 100990000),\n",
    "]\n",
    "\n",
    "cursor.executemany('INSERT INTO Question VALUES (?, ?, ?, ?, ?)', question_data)\n",
    "conn.commit()\n",
    "\n",
    "answer = '''\n",
    "    SELECT name, population, area\n",
    "    FROM Question\n",
    "    WHERE area > 3000000 OR population > 25000000\n",
    "'''\n",
    "\n",
    "cursor.execute(answer)\n",
    "big_countries = cursor.fetchall()\n",
    "\n",
    "for country in big_countries:\n",
    "    print(f\"Name: {country[0]}, Population: {country[1]}, Area: {country[2]}\")\n",
    "\n",
    "conn.close()\n"
   ]
  }
 ],
 "metadata": {
  "kernelspec": {
   "display_name": "Python 3 (ipykernel)",
   "language": "python",
   "name": "python3"
  },
  "language_info": {
   "codemirror_mode": {
    "name": "ipython",
    "version": 3
   },
   "file_extension": ".py",
   "mimetype": "text/x-python",
   "name": "python",
   "nbconvert_exporter": "python",
   "pygments_lexer": "ipython3",
   "version": "3.11.4"
  }
 },
 "nbformat": 4,
 "nbformat_minor": 5
}
