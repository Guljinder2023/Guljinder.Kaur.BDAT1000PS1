{
 "cells": [
  {
   "cell_type": "code",
   "execution_count": 4,
   "id": "81092de7",
   "metadata": {},
   "outputs": [
    {
     "name": "stdout",
     "output_type": "stream",
     "text": [
      "Anagrams of 'trace': cater, crate, react\n"
     ]
    }
   ],
   "source": [
    "\n",
    "def read_words(file_name):\n",
    "    with open(\"C:/Users/Maa Laxmi Computer/Downloads/words.txt\", 'r') as file:\n",
    "        words = file.read().split()\n",
    "    return words\n",
    "\n",
    "def find(word, remaining, current):\n",
    "    if len(remaining) == 0:\n",
    "        if current != word:\n",
    "            return [current]\n",
    "        else:\n",
    "            return []\n",
    "\n",
    "    anagrams = []\n",
    "    for i in range(len(remaining_)):\n",
    "        next_letter = remaining[i]\n",
    "        new = remaining[:i] + remaining[i+1:]\n",
    "        new_anagram = current + next_letter\n",
    "        anagrams += find(word, new, new_anagram)\n",
    "\n",
    "    return anagrams\n",
    "\n",
    "def anagrams_output(file_name, input_word):\n",
    "    word_lst = read_words_from_file(file_name)\n",
    "    anagram_lst = []\n",
    "\n",
    "    for word in word_lst:\n",
    "        if sorted(word) == sorted(input_word):\n",
    "            anagram_lst.append(word)\n",
    "\n",
    "    return anagram_lst\n",
    "\n",
    "input_word = \"trace\"\n",
    "file_name = \"words.txt\"\n",
    "\n",
    "result = anagrams_output(file_name, input_word)\n",
    "print(f\"Anagrams of '{input_word}': {', '.join(result)}\")\n"
   ]
  }
 ],
 "metadata": {
  "kernelspec": {
   "display_name": "Python 3 (ipykernel)",
   "language": "python",
   "name": "python3"
  },
  "language_info": {
   "codemirror_mode": {
    "name": "ipython",
    "version": 3
   },
   "file_extension": ".py",
   "mimetype": "text/x-python",
   "name": "python",
   "nbconvert_exporter": "python",
   "pygments_lexer": "ipython3",
   "version": "3.11.4"
  }
 },
 "nbformat": 4,
 "nbformat_minor": 5
}
