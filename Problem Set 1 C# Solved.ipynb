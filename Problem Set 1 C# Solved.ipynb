{
 "cells": [
  {
   "cell_type": "markdown",
   "id": "4c10ee65",
   "metadata": {},
   "source": [
    "## Question 1"
   ]
  },
  {
   "cell_type": "markdown",
   "id": "00f72f91",
   "metadata": {},
   "source": [
    "5"
   ]
  },
  {
   "cell_type": "markdown",
   "id": "5117f75c",
   "metadata": {},
   "source": [
    "This data type is int (integer)."
   ]
  },
  {
   "cell_type": "markdown",
   "id": "7c56f044",
   "metadata": {},
   "source": [
    "5.0"
   ]
  },
  {
   "cell_type": "markdown",
   "id": "c7c99cca",
   "metadata": {},
   "source": [
    "This double data type, which represents a floating-point number, is used."
   ]
  },
  {
   "cell_type": "markdown",
   "id": "3c5ce3d6",
   "metadata": {},
   "source": [
    " 5>1               "
   ]
  },
  {
   "cell_type": "markdown",
   "id": "c74d4333",
   "metadata": {},
   "source": [
    "Because it encodes a boolean expression that evaluates to true, this is a bool data type (boolean)."
   ]
  },
  {
   "cell_type": "markdown",
   "id": "803a8882",
   "metadata": {},
   "source": [
    "'5'"
   ]
  },
  {
   "cell_type": "markdown",
   "id": "874a25c8",
   "metadata": {},
   "source": [
    "This is a char data type, representing a single character.data type."
   ]
  },
  {
   "cell_type": "markdown",
   "id": "a9ba9ffa",
   "metadata": {},
   "source": [
    "5*2"
   ]
  },
  {
   "cell_type": "markdown",
   "id": "918df961",
   "metadata": {},
   "source": [
    "This is an int data type, as it represents the result of an integer multiplication."
   ]
  },
  {
   "cell_type": "markdown",
   "id": "6b05bca7",
   "metadata": {},
   "source": [
    "'5'*2"
   ]
  },
  {
   "cell_type": "markdown",
   "id": "5948b839",
   "metadata": {},
   "source": [
    "  This is an int data type, as it represents the result of an integer multiplication.\n"
   ]
  },
  {
   "cell_type": "markdown",
   "id": "1b8d1487",
   "metadata": {},
   "source": [
    "'5' + '2'"
   ]
  },
  {
   "cell_type": "markdown",
   "id": "7397c5a2",
   "metadata": {},
   "source": [
    "This is an int data type, but it represents the ASCII values of '5' and '2' added together."
   ]
  },
  {
   "cell_type": "markdown",
   "id": "0e864278",
   "metadata": {},
   "source": [
    "5 / 2 "
   ]
  },
  {
   "cell_type": "markdown",
   "id": "5b7aebdd",
   "metadata": {},
   "source": [
    "This is a int data type, but the result will be 2 because it's an integer division, and it truncates the decimal part.\n"
   ]
  },
  {
   "cell_type": "markdown",
   "id": "92132178",
   "metadata": {},
   "source": [
    "5 % 2"
   ]
  },
  {
   "cell_type": "markdown",
   "id": "263f4eb8",
   "metadata": {},
   "source": [
    "This is an int data type, representing the remainder of the division, which is 1.\n"
   ]
  },
  {
   "cell_type": "markdown",
   "id": "e0776378",
   "metadata": {},
   "source": [
    "{5, 2, 1}"
   ]
  },
  {
   "cell_type": "markdown",
   "id": "fe107fda",
   "metadata": {},
   "source": [
    "There are int data types in this array.\n"
   ]
  },
  {
   "cell_type": "markdown",
   "id": "497c6da2",
   "metadata": {},
   "source": [
    "5 == 3 "
   ]
  },
  {
   "cell_type": "markdown",
   "id": "ae08d86d",
   "metadata": {},
   "source": [
    "This is a bool data type, representing the result of the comparison, which is false.\n"
   ]
  },
  {
   "cell_type": "markdown",
   "id": "f93a77ec",
   "metadata": {},
   "source": [
    "Pi (the number)"
   ]
  },
  {
   "cell_type": "markdown",
   "id": "124360dd",
   "metadata": {},
   "source": [
    "Depending on how Pi is defined in your code, this will have a certain data type. Pi is often represented by a double if you are utilizing a mathematical constant for it. It hinges on how it is declared in your code, though. You might declare it as: csharp, for instance.\n",
    "Code copy\n",
    "\n",
    "Pi twice is 3.14159265359;\n",
    "\n",
    "It's important to remember that C# is a statically typed language, meaning that the data type of a variable or expression is determined at build time and must typically be declared explicitly.\n"
   ]
  },
  {
   "cell_type": "markdown",
   "id": "160f19fd",
   "metadata": {},
   "source": [
    "## Question 2"
   ]
  },
  {
   "cell_type": "markdown",
   "id": "e6bd1a1c",
   "metadata": {},
   "source": [
    "### a. How many letters are there in 'Supercalifragilisticexpialidocious'?"
   ]
  },
  {
   "cell_type": "code",
   "execution_count": 17,
   "id": "752ea0da",
   "metadata": {},
   "outputs": [
    {
     "name": "stdout",
     "output_type": "stream",
     "text": [
      "Total Letters: 34\r\n"
     ]
    }
   ],
   "source": [
    "string word_1 = \"Supercalifragilisticexpialidocious\";\n",
    "int c = word_1.Length;\n",
    "Console.WriteLine($\"Total Letters: {c}\");"
   ]
  },
  {
   "cell_type": "markdown",
   "id": "80e49b0c",
   "metadata": {},
   "source": [
    "### b. Does 'Supercalifragilisticexpialidocious' contain 'ice' as a substring?\n"
   ]
  },
  {
   "cell_type": "code",
   "execution_count": 18,
   "id": "ccea4c04",
   "metadata": {},
   "outputs": [
    {
     "name": "stdout",
     "output_type": "stream",
     "text": [
      "'Supercalifragilisticexpialidocious' contains 'ice'.\r\n"
     ]
    }
   ],
   "source": [
    "string word_2 = \"Supercalifragilisticexpialidocious\";\n",
    "string sub_string = \"ice\";\n",
    "bool answer = word_2.Contains(sub_string);\n",
    "\n",
    "if (answer)\n",
    "{\n",
    "    Console.WriteLine(\"'Supercalifragilisticexpialidocious' contains 'ice'.\");\n",
    "}\n",
    "else\n",
    "{\n",
    "    Console.WriteLine(\"'Supercalifragilisticexpialidocious' does not contains 'ice'.\");\n",
    "}\n"
   ]
  },
  {
   "cell_type": "markdown",
   "id": "4104d3a2",
   "metadata": {},
   "source": [
    "### c. Which of the following words is the longest: Supercalifragilisticexpialidocious, Honorificabilitudinitatibus, or Bababadalgharaghtakamminarronnkonn?"
   ]
  },
  {
   "cell_type": "code",
   "execution_count": 19,
   "id": "3f368e8e",
   "metadata": {},
   "outputs": [
    {
     "name": "stdout",
     "output_type": "stream",
     "text": [
      "The longest word: Supercalifragilisticexpialidocious\r\n"
     ]
    }
   ],
   "source": [
    "string c_1 = \"Supercalifragilisticexpialidocious\";\n",
    "string c_2 = \"Honorificabilitudinitatibus\";\n",
    "string c_3 = \"Bababadalgharaghtakamminarronnkonn\";\n",
    "string longest = c_1;\n",
    "if (c_2.Length > longest.Length)\n",
    "{\n",
    "    longest = c_2;\n",
    "}\n",
    "if (c_3.Length > longest.Length)\n",
    "{\n",
    "    longest = c_3;\n",
    "}\n",
    "Console.WriteLine($\"The longest word: {longest}\");"
   ]
  },
  {
   "cell_type": "markdown",
   "id": "3ebcd1d3",
   "metadata": {},
   "source": [
    "### d. Which composer comes first in the dictionary: 'Berlioz', 'Borodin', 'Brian', 'Bartok', 'Bellini', 'Buxtehude', 'Bernstein'. Which one comes last?"
   ]
  },
  {
   "cell_type": "code",
   "execution_count": 20,
   "id": "ef71d6c9",
   "metadata": {},
   "outputs": [
    {
     "name": "stdout",
     "output_type": "stream",
     "text": [
      "First composer: Bartok\n",
      "Last composer: Buxtehude\n"
     ]
    }
   ],
   "source": [
    "string[] d = { \"Berlioz\", \"Borodin\", \"Brian\", \"Bartok\", \"Bellini\", \"Buxtehude\", \"Bernstein\" };\n",
    "Array.Sort(d);\n",
    "string first_c = d[0];\n",
    "string last_c = d[d.Length - 1];\n",
    "Console.WriteLine($\"First composer: {first_c}\");\n",
    "Console.WriteLine($\"Last composer: {last_c}\");"
   ]
  },
  {
   "cell_type": "markdown",
   "id": "54c3f147",
   "metadata": {},
   "source": [
    "## Question 3"
   ]
  },
  {
   "cell_type": "code",
   "execution_count": 6,
   "id": "15bb77ce",
   "metadata": {},
   "outputs": [
    {
     "data": {
      "text/plain": [
       "1.7320508075688772"
      ]
     },
     "execution_count": 6,
     "metadata": {},
     "output_type": "execute_result"
    }
   ],
   "source": [
    "public double TriangleArea(double a, double b, double c)\n",
    "{\n",
    "    double question = (a + b + c) / 2;\n",
    "    double area_triangle = Math.Sqrt(question * (question - a) * (question - b) * (question - c));\n",
    "    return area_triangle;\n",
    "}\n",
    "var result = TriangleArea(2, 2, 2);\n",
    "result"
   ]
  },
  {
   "cell_type": "markdown",
   "id": "bd69f4ea",
   "metadata": {},
   "source": [
    "## Question 4"
   ]
  },
  {
   "cell_type": "code",
   "execution_count": 11,
   "id": "4243fc9e",
   "metadata": {},
   "outputs": [
    {
     "name": "stdout",
     "output_type": "stream",
     "text": [
      "The Even elements are:\n",
      "42 56 32 \n",
      "The Odd elements are:\n",
      "25 47 "
     ]
    }
   ],
   "source": [
    "int[] input = { 25, 47, 42, 56, 32 };\n",
    "int[] even = new int[input.Length];\n",
    "int[] odd = new int[input.Length];\n",
    "int even_Count = 0;\n",
    "int odd_Count = 0;\n",
    "\n",
    "foreach (int num in input)\n",
    "{\n",
    "    if (num % 2 == 0)\n",
    "    {\n",
    "        even[even_Count] = num;\n",
    "        even_Count++;\n",
    "    }\n",
    "    else\n",
    "    {\n",
    "        odd[odd_Count] = num;\n",
    "        odd_Count++;\n",
    "    }\n",
    "}\n",
    "\n",
    "Console.WriteLine(\"The Even elements are:\");\n",
    "for (int i = 0; i < even_Count; i++)\n",
    "{\n",
    "    Console.Write($\"{even[i]} \");\n",
    "}\n",
    "\n",
    "Console.WriteLine(\"\\nThe Odd elements are:\");\n",
    "for (int i = 0; i < odd_Count; i++)\n",
    "{\n",
    "    Console.Write($\"{odd[i]} \");\n",
    "}\n"
   ]
  },
  {
   "cell_type": "markdown",
   "id": "c5b27fcd",
   "metadata": {},
   "source": [
    "## Question 5"
   ]
  },
  {
   "cell_type": "code",
   "execution_count": 18,
   "id": "8a7926dd",
   "metadata": {},
   "outputs": [
    {
     "name": "stdout",
     "output_type": "stream",
     "text": [
      "True\n",
      "False\n"
     ]
    }
   ],
   "source": [
    "public static bool Inside(double x, double y, double x1, double y1, double x2, double y2)\n",
    "{\n",
    "    return x >= x1 && x <= x2 && y >= y1 && y <= y2;\n",
    "}\n",
    "    bool result_1 = Inside(1, 1, 0, 0, 2, 3);\n",
    "    bool result_2 = Inside(-1, -1, 0, 0, 2, 3);\n",
    "\n",
    "    Console.WriteLine(result_1); \n",
    "    Console.WriteLine(result_2); "
   ]
  },
  {
   "cell_type": "code",
   "execution_count": 21,
   "id": "c015c5c3",
   "metadata": {},
   "outputs": [
    {
     "name": "stdout",
     "output_type": "stream",
     "text": [
      "False\r\n"
     ]
    }
   ],
   "source": [
    "\n",
    "static bool Inside(double x, double y, double x1, double y1, double x2, double y2)\n",
    "{\n",
    "    return x >= x1 && x <= x2 && y >= y1 && y <= y2;\n",
    "}\n",
    "\n",
    "double x = 1;\n",
    "double y = 1;      \n",
    "bool inRectangle_1 = Inside(x, y, 0.3, 0.5, 1.1, 0.7);\n",
    "bool inRectangle_2 = Inside(x, y, 0.5, 0.2, 1.1, 2);\n",
    "bool in_Both_Rectangles = inRectangle_1 && inRectangle_2;\n",
    "Console.WriteLine(in_Both_Rectangles); "
   ]
  }
 ],
 "metadata": {
  "kernelspec": {
   "display_name": ".NET (C#)",
   "language": "C#",
   "name": ".net-csharp"
  },
  "language_info": {
   "file_extension": ".cs",
   "mimetype": "text/x-csharp",
   "name": "C#",
   "pygments_lexer": "csharp",
   "version": "8.0"
  }
 },
 "nbformat": 4,
 "nbformat_minor": 5
}
